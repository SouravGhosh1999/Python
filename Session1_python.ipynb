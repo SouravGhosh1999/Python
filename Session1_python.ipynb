{
  "cells": [
    {
      "cell_type": "markdown",
      "metadata": {
        "id": "view-in-github",
        "colab_type": "text"
      },
      "source": [
        "<a href=\"https://colab.research.google.com/github/SouravGhosh1999/Python/blob/main/Session1_python.ipynb\" target=\"_parent\"><img src=\"https://colab.research.google.com/assets/colab-badge.svg\" alt=\"Open In Colab\"/></a>"
      ]
    },
    {
      "cell_type": "markdown",
      "source": [],
      "metadata": {
        "id": "wJADUh1PqaE7"
      }
    },
    {
      "cell_type": "markdown",
      "source": [
        "1. Python Output"
      ],
      "metadata": {
        "id": "0gTlyBn4qUFe"
      }
    },
    {
      "cell_type": "code",
      "source": [],
      "metadata": {
        "id": "2x94s8VErK7i"
      },
      "execution_count": null,
      "outputs": []
    },
    {
      "cell_type": "code",
      "source": [
        "#Python is a case sensitive language\n",
        "print('Hello world')\n",
        "print('Sourav Ghosh')\n",
        "print(7)\n",
        "print(7.7)\n",
        "print(True)\n",
        "print(\"Hello\",1,2,4.5,True)"
      ],
      "metadata": {
        "colab": {
          "base_uri": "https://localhost:8080/"
        },
        "id": "crU7ZA5wpf5e",
        "outputId": "d156255c-9114-496f-92c0-02ff4e3ca91c"
      },
      "execution_count": null,
      "outputs": [
        {
          "output_type": "stream",
          "name": "stdout",
          "text": [
            "Hello world\n",
            "Sourav Ghosh\n",
            "7\n",
            "7.7\n",
            "True\n",
            "Hello 1 2 4.5 True\n"
          ]
        }
      ]
    },
    {
      "cell_type": "code",
      "source": [
        "print(\"Hello\",1,2,4.5,True,sep='/')"
      ],
      "metadata": {
        "colab": {
          "base_uri": "https://localhost:8080/"
        },
        "id": "4LxmavpurzV_",
        "outputId": "74a34cea-4916-44ff-c555-8bf2eebdb30c"
      },
      "execution_count": null,
      "outputs": [
        {
          "output_type": "stream",
          "name": "stdout",
          "text": [
            "Hello/1/2/4.5/True\n"
          ]
        }
      ]
    },
    {
      "cell_type": "code",
      "source": [
        "print('hello')\n",
        "print('world')"
      ],
      "metadata": {
        "colab": {
          "base_uri": "https://localhost:8080/"
        },
        "id": "GrruzFCxr1bf",
        "outputId": "170433b8-5327-42eb-bb7c-8f245a4f82fb"
      },
      "execution_count": null,
      "outputs": [
        {
          "output_type": "stream",
          "name": "stdout",
          "text": [
            "hello\n",
            "world\n"
          ]
        }
      ]
    },
    {
      "cell_type": "code",
      "source": [
        "print('hello',end='-')\n",
        "print('world')"
      ],
      "metadata": {
        "colab": {
          "base_uri": "https://localhost:8080/"
        },
        "id": "t-83QQMRs0JW",
        "outputId": "868c8a70-0ba4-465c-89a3-e4fdf4beb1b4"
      },
      "execution_count": null,
      "outputs": [
        {
          "output_type": "stream",
          "name": "stdout",
          "text": [
            "hello-world\n"
          ]
        }
      ]
    },
    {
      "cell_type": "markdown",
      "source": [
        "2.Data Types"
      ],
      "metadata": {
        "id": "oh-Z8Ls4rBDR"
      }
    },
    {
      "cell_type": "code",
      "source": [
        "#integer\n",
        "print(8)\n",
        "#Decimal/Float\n",
        "print(8.42)\n",
        "#Boolean\n",
        "print(True)\n",
        "print(False)"
      ],
      "metadata": {
        "id": "NVzlxy4urMmn",
        "colab": {
          "base_uri": "https://localhost:8080/"
        },
        "outputId": "ed19289c-94f8-4a77-afdd-fc70e7eed875"
      },
      "execution_count": null,
      "outputs": [
        {
          "output_type": "stream",
          "name": "stdout",
          "text": [
            "8\n",
            "8.42\n",
            "True\n",
            "False\n"
          ]
        }
      ]
    },
    {
      "cell_type": "code",
      "source": [
        "#Text/String\n",
        "print(\"Hello world\")\n",
        "#complex\n",
        "print(4+6j)"
      ],
      "metadata": {
        "id": "9zZezLvnrIai",
        "colab": {
          "base_uri": "https://localhost:8080/"
        },
        "outputId": "e7a647f7-e28c-4a41-d091-459ef077687b"
      },
      "execution_count": null,
      "outputs": [
        {
          "output_type": "stream",
          "name": "stdout",
          "text": [
            "Hello world\n",
            "(4+6j)\n"
          ]
        }
      ]
    },
    {
      "cell_type": "code",
      "source": [
        "#List-> C -> Array\n",
        "print([1,2,3,4,5])\n",
        "#Tuple\n",
        "print((1,2,3,4,5))\n",
        "#Sets\n",
        "print({1,2,3,4,5})\n",
        "#Dictonary\n",
        "print({'name':'Sourav','gender':'Male','weight':70})\n",
        "#type\n",
        "type(\"hello\")"
      ],
      "metadata": {
        "id": "JWTFr7Blq_zb",
        "colab": {
          "base_uri": "https://localhost:8080/"
        },
        "outputId": "72e90e75-3144-4a35-ef9f-5581774d9bd9"
      },
      "execution_count": null,
      "outputs": [
        {
          "output_type": "stream",
          "name": "stdout",
          "text": [
            "[1, 2, 3, 4, 5]\n",
            "(1, 2, 3, 4, 5)\n",
            "{1, 2, 3, 4, 5}\n",
            "{'name': 'Sourav', 'gender': 'Male', 'weight': 70}\n"
          ]
        },
        {
          "output_type": "execute_result",
          "data": {
            "text/plain": [
              "str"
            ]
          },
          "metadata": {},
          "execution_count": 8
        }
      ]
    },
    {
      "cell_type": "markdown",
      "source": [
        "3. Variables\n"
      ],
      "metadata": {
        "id": "JqdAvtj9ztyY"
      }
    },
    {
      "cell_type": "code",
      "source": [
        "#Static Vs Dynamic Typing\n",
        "#Static Vs Dynamic Binding\n",
        "#Stylish decleartion teachniques"
      ],
      "metadata": {
        "id": "xMQnU_cAz-Y5"
      },
      "execution_count": null,
      "outputs": []
    },
    {
      "cell_type": "code",
      "source": [
        "name='Sourav'\n",
        "print(name)\n",
        "a=34\n",
        "b=87\n",
        "print(a+b)"
      ],
      "metadata": {
        "colab": {
          "base_uri": "https://localhost:8080/"
        },
        "id": "L-5TwE8g06wO",
        "outputId": "e43c00e7-5cd8-441a-84a1-0d054c9cb44b"
      },
      "execution_count": null,
      "outputs": [
        {
          "output_type": "stream",
          "name": "stdout",
          "text": [
            "Sourav\n",
            "121\n"
          ]
        }
      ]
    },
    {
      "cell_type": "code",
      "source": [
        "# @title Default title text\n",
        "#Dynamic Typing\n",
        "a=5\n",
        "#Static Typing\n",
        "int b =5"
      ],
      "metadata": {
        "id": "P82PyqZ41J0C"
      },
      "execution_count": null,
      "outputs": []
    },
    {
      "cell_type": "code",
      "source": [
        "#Dynamic Binding\n",
        "a=15\n",
        "print(a)\n",
        "a='Sourav'\n",
        "print(a)"
      ],
      "metadata": {
        "colab": {
          "base_uri": "https://localhost:8080/"
        },
        "id": "uycUKYMR1ezR",
        "outputId": "e4dbef04-a025-42f9-af44-c020b41ae681"
      },
      "execution_count": null,
      "outputs": [
        {
          "output_type": "stream",
          "name": "stdout",
          "text": [
            "15\n",
            "Sourav\n"
          ]
        }
      ]
    },
    {
      "cell_type": "code",
      "source": [
        "a=1\n",
        "b=2\n",
        "c=3\n",
        "print(a,b,c)\n",
        "a,b,c=32,43,21\n",
        "print(a,b,c)\n",
        "a=b=c=8\n",
        "print(a,b,c)"
      ],
      "metadata": {
        "colab": {
          "base_uri": "https://localhost:8080/"
        },
        "id": "TVZP3LEb2NCB",
        "outputId": "0845712c-43a1-40ff-e220-b8bebf030093"
      },
      "execution_count": null,
      "outputs": [
        {
          "output_type": "stream",
          "name": "stdout",
          "text": [
            "1 2 3\n",
            "32 43 21\n",
            "8 8 8\n"
          ]
        }
      ]
    },
    {
      "cell_type": "markdown",
      "source": [
        "4. Keywords & Identifiers\n"
      ],
      "metadata": {
        "id": "kGBtWkjL3lk5"
      }
    },
    {
      "cell_type": "code",
      "source": [
        "# Keywords\n",
        "# Identifiers\n",
        "# You can't start with a digit\n",
        "# You can use special chars->_\n",
        "_='Sourav'\n",
        "print(_)"
      ],
      "metadata": {
        "colab": {
          "base_uri": "https://localhost:8080/"
        },
        "id": "zVL6WV_z3k_i",
        "outputId": "bc9957e0-f0e1-48e3-c7f3-0180fc269b5a"
      },
      "execution_count": null,
      "outputs": [
        {
          "output_type": "stream",
          "name": "stdout",
          "text": [
            "Sourav\n"
          ]
        }
      ]
    },
    {
      "cell_type": "markdown",
      "source": [
        "5. User Input"
      ],
      "metadata": {
        "id": "ogQhMvE18UfZ"
      }
    },
    {
      "cell_type": "code",
      "source": [
        "#Static Vs Dynamic\n",
        "input(\"What is your name:\")"
      ],
      "metadata": {
        "colab": {
          "base_uri": "https://localhost:8080/",
          "height": 53
        },
        "id": "F6NqKP078a0t",
        "outputId": "56e063e6-281a-45e5-a257-d8ba10583ea0"
      },
      "execution_count": null,
      "outputs": [
        {
          "name": "stdout",
          "output_type": "stream",
          "text": [
            "What is your name:my name is Sourav\n"
          ]
        },
        {
          "output_type": "execute_result",
          "data": {
            "text/plain": [
              "'my name is Sourav'"
            ],
            "application/vnd.google.colaboratory.intrinsic+json": {
              "type": "string"
            }
          },
          "metadata": {},
          "execution_count": 9
        }
      ]
    },
    {
      "cell_type": "code",
      "source": [
        "# take input from the users and store them in a variable\n",
        "a=input('enter first number')\n",
        "b=input('enter second number')\n",
        "print(type(a),type(b))\n",
        "#add the 2 variables\n",
        "result=a+b\n",
        "#print the result\n",
        "print(result)\n",
        "result1=int(a)+int(b)\n",
        "print(result1)"
      ],
      "metadata": {
        "colab": {
          "base_uri": "https://localhost:8080/"
        },
        "id": "hJ_UfZVg9Kh3",
        "outputId": "357c5215-f6b1-478b-b6ba-2a15a748dc42"
      },
      "execution_count": null,
      "outputs": [
        {
          "output_type": "stream",
          "name": "stdout",
          "text": [
            "enter first number45\n",
            "enter second number87\n",
            "<class 'str'> <class 'str'>\n",
            "4587\n",
            "132\n"
          ]
        }
      ]
    },
    {
      "cell_type": "markdown",
      "source": [
        "6. Type Conversion"
      ],
      "metadata": {
        "id": "6cZIXB_h-bF6"
      }
    },
    {
      "cell_type": "code",
      "source": [
        "# Implicit Vs Explicit\n",
        "print(5+5.6)\n",
        "print(type(5),type(5.6))\n",
        "a='4';b=4;\n",
        "print(type(a),type(b))\n",
        "print(int(a)+b)"
      ],
      "metadata": {
        "colab": {
          "base_uri": "https://localhost:8080/"
        },
        "id": "BgEH32V5-SMF",
        "outputId": "fe3af67b-d94e-4d98-c527-2c182ff74b3e"
      },
      "execution_count": null,
      "outputs": [
        {
          "output_type": "stream",
          "name": "stdout",
          "text": [
            "10.6\n",
            "<class 'int'> <class 'float'>\n",
            "<class 'str'> <class 'int'>\n",
            "8\n"
          ]
        }
      ]
    },
    {
      "cell_type": "markdown",
      "source": [
        "7. Literals"
      ],
      "metadata": {
        "id": "MfJSmTwpAXVU"
      }
    },
    {
      "cell_type": "code",
      "source": [
        "a=0b1010 #Binary Literals\n",
        "b=100 #Decimal Literals\n",
        "c=0o310 #Octal Literals\n",
        "d=0x12c #Hexadecimal Literals\n",
        "print(a,b,c,d)\n",
        "print(type(a))\n",
        "\n",
        "#Complex Literal\n",
        "x=3.14j\n",
        "print(x.real,x.imag)\n",
        "print(type(x))\n"
      ],
      "metadata": {
        "colab": {
          "base_uri": "https://localhost:8080/"
        },
        "id": "JmbwHyuXAdB-",
        "outputId": "a32ec6f6-5124-42fe-a160-0dc4f6e0b196"
      },
      "execution_count": null,
      "outputs": [
        {
          "output_type": "stream",
          "name": "stdout",
          "text": [
            "10 100 200 300\n",
            "<class 'int'>\n",
            "0.0 3.14\n",
            "<class 'complex'>\n"
          ]
        }
      ]
    },
    {
      "cell_type": "code",
      "source": [
        "srt='This is string'\n",
        "char='C'\n",
        "ms=\"\"\"This is a multiline string with more than one line code.\"\"\"\n",
        "un=u\"\\U0001f600\\U0001F606\\U0001F923\"\n",
        "print(srt)\n",
        "print(char)\n",
        "print(ms)\n",
        "print(un)"
      ],
      "metadata": {
        "colab": {
          "base_uri": "https://localhost:8080/"
        },
        "id": "c0x1XQZ9CVVT",
        "outputId": "9d9b180c-9586-434b-a4f7-50d52545fe7a"
      },
      "execution_count": null,
      "outputs": [
        {
          "output_type": "stream",
          "name": "stdout",
          "text": [
            "This is string\n",
            "C\n",
            "This is a multiline string with more than one line code.\n",
            "😀😆🤣\n"
          ]
        }
      ]
    },
    {
      "cell_type": "code",
      "source": [
        "a=True+4\n",
        "b=False+10\n",
        "\n",
        "print(\"a:\",a)\n",
        "print(\"b:\",b)"
      ],
      "metadata": {
        "colab": {
          "base_uri": "https://localhost:8080/"
        },
        "id": "M-Rmm9RMDZ4X",
        "outputId": "a32ab1eb-4b2b-4762-dfe8-79851aae4e8a"
      },
      "execution_count": null,
      "outputs": [
        {
          "output_type": "stream",
          "name": "stdout",
          "text": [
            "a: 5\n",
            "b: 10\n"
          ]
        }
      ]
    }
  ],
  "metadata": {
    "colab": {
      "toc_visible": true,
      "provenance": [],
      "include_colab_link": true
    },
    "kernelspec": {
      "display_name": "Python 3",
      "name": "python3"
    }
  },
  "nbformat": 4,
  "nbformat_minor": 0
}