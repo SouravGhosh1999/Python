{
  "nbformat": 4,
  "nbformat_minor": 0,
  "metadata": {
    "colab": {
      "provenance": [],
      "authorship_tag": "ABX9TyOtQC1EjL3G/dla5gCF35mC",
      "include_colab_link": true
    },
    "kernelspec": {
      "name": "python3",
      "display_name": "Python 3"
    },
    "language_info": {
      "name": "python"
    }
  },
  "cells": [
    {
      "cell_type": "markdown",
      "metadata": {
        "id": "view-in-github",
        "colab_type": "text"
      },
      "source": [
        "<a href=\"https://colab.research.google.com/github/SouravGhosh1999/Python/blob/main/Session_3_Python_Strings_lists.ipynb\" target=\"_parent\"><img src=\"https://colab.research.google.com/assets/colab-badge.svg\" alt=\"Open In Colab\"/></a>"
      ]
    },
    {
      "cell_type": "markdown",
      "source": [
        "Creating String"
      ],
      "metadata": {
        "id": "D-YT0o_Momfp"
      }
    },
    {
      "cell_type": "code",
      "execution_count": null,
      "metadata": {
        "colab": {
          "base_uri": "https://localhost:8080/"
        },
        "id": "Hw_GZjs2oayM",
        "outputId": "47a21019-68af-4719-cfd7-e3d5ee10ee61"
      },
      "outputs": [
        {
          "output_type": "stream",
          "name": "stdout",
          "text": [
            " hello \n"
          ]
        }
      ],
      "source": [
        "s = 'hello'\n",
        "s = \"hello\"\n",
        "# multiline strings\n",
        "s= ''' hello '''\n",
        "print(s)"
      ]
    },
    {
      "cell_type": "markdown",
      "source": [
        "Assessing Substrings from a String"
      ],
      "metadata": {
        "id": "5m-cY9SepzXr"
      }
    },
    {
      "cell_type": "code",
      "source": [
        "# Positive Indexing & Negative Indexing\n",
        "s = 'hello world'\n",
        "print(s[0])\n",
        "print(s[-1])"
      ],
      "metadata": {
        "colab": {
          "base_uri": "https://localhost:8080/"
        },
        "id": "t1nyec5Tp7lZ",
        "outputId": "ba4eb2bd-e64c-458c-ca24-e12e51dece3d"
      },
      "execution_count": null,
      "outputs": [
        {
          "output_type": "stream",
          "name": "stdout",
          "text": [
            "h\n",
            "d\n"
          ]
        }
      ]
    },
    {
      "cell_type": "code",
      "source": [
        "# Slicing\n",
        "s = 'hello world'\n",
        "print(s[0:5])\n",
        "print(s[0:7:2])\n",
        "print(s[6:0:-2])\n",
        "print(s[::-1])\n",
        "print(s[-1:-6:-1])"
      ],
      "metadata": {
        "colab": {
          "base_uri": "https://localhost:8080/"
        },
        "id": "a7UeXEG6qiHM",
        "outputId": "4e7dedc9-3563-4fcd-ab6e-e13c84b38b47"
      },
      "execution_count": null,
      "outputs": [
        {
          "output_type": "stream",
          "name": "stdout",
          "text": [
            "hello\n",
            "hlow\n",
            "wol\n",
            "dlrow olleh\n",
            "dlrow\n"
          ]
        }
      ]
    },
    {
      "cell_type": "markdown",
      "source": [
        "Editing and Deleting in String"
      ],
      "metadata": {
        "id": "WWkdivSGrvuS"
      }
    },
    {
      "cell_type": "code",
      "source": [
        "s= 'hello world'\n",
        "\n",
        "# Python strings are immutable\n",
        "\n",
        "# Python strings can be delete totally but not partially"
      ],
      "metadata": {
        "id": "D8s6khvWr1LK"
      },
      "execution_count": null,
      "outputs": []
    },
    {
      "cell_type": "markdown",
      "source": [
        "Operations on Strings\n",
        "- Arithmetic Operations\n",
        "- Relational Operations\n",
        "- Logical Operations\n",
        "- Loops on String\n",
        "- Membership Operations"
      ],
      "metadata": {
        "id": "KS1q_rrksrQM"
      }
    },
    {
      "cell_type": "code",
      "source": [
        "print('delhi'+ ' ' + 'mumbai')"
      ],
      "metadata": {
        "colab": {
          "base_uri": "https://localhost:8080/"
        },
        "id": "koLhSk1_tFQs",
        "outputId": "3c2e26db-3236-4cc0-c802-f57025bb308f"
      },
      "execution_count": null,
      "outputs": [
        {
          "output_type": "stream",
          "name": "stdout",
          "text": [
            "delhi mumbai\n"
          ]
        }
      ]
    },
    {
      "cell_type": "code",
      "source": [
        "print(\"*\"*50)"
      ],
      "metadata": {
        "colab": {
          "base_uri": "https://localhost:8080/"
        },
        "id": "vB4G3eLztV0r",
        "outputId": "e0e2c2df-464b-4324-e461-30221d83b94a"
      },
      "execution_count": null,
      "outputs": [
        {
          "output_type": "stream",
          "name": "stdout",
          "text": [
            "**************************************************\n"
          ]
        }
      ]
    },
    {
      "cell_type": "code",
      "source": [
        "print('delhi' != 'mumbai')\n",
        "print('mumbai'>'pune')\n",
        "#lexiographically\n",
        "print('Pune' > 'pune')"
      ],
      "metadata": {
        "colab": {
          "base_uri": "https://localhost:8080/"
        },
        "id": "AwkMH5uDtdcQ",
        "outputId": "25e4b270-19c7-4677-ed2e-4a3be87bdbf8"
      },
      "execution_count": null,
      "outputs": [
        {
          "output_type": "stream",
          "name": "stdout",
          "text": [
            "True\n",
            "False\n",
            "False\n"
          ]
        }
      ]
    },
    {
      "cell_type": "code",
      "source": [
        "'hello' and 'world'"
      ],
      "metadata": {
        "colab": {
          "base_uri": "https://localhost:8080/",
          "height": 35
        },
        "id": "-2q_BWtHuDvV",
        "outputId": "55828a66-3a56-43c7-f9c8-aa5e2712f595"
      },
      "execution_count": null,
      "outputs": [
        {
          "output_type": "execute_result",
          "data": {
            "text/plain": [
              "'world'"
            ],
            "application/vnd.google.colaboratory.intrinsic+json": {
              "type": "string"
            }
          },
          "metadata": {},
          "execution_count": 15
        }
      ]
    },
    {
      "cell_type": "code",
      "source": [
        "'hello' or 'world'"
      ],
      "metadata": {
        "colab": {
          "base_uri": "https://localhost:8080/",
          "height": 35
        },
        "id": "FDpd08a8uJqg",
        "outputId": "4018b898-23b7-4740-bba6-3ef06d41c25c"
      },
      "execution_count": null,
      "outputs": [
        {
          "output_type": "execute_result",
          "data": {
            "text/plain": [
              "'hello'"
            ],
            "application/vnd.google.colaboratory.intrinsic+json": {
              "type": "string"
            }
          },
          "metadata": {},
          "execution_count": 16
        }
      ]
    },
    {
      "cell_type": "code",
      "source": [
        "'' and 'world'"
      ],
      "metadata": {
        "colab": {
          "base_uri": "https://localhost:8080/",
          "height": 35
        },
        "id": "aYQz-1tHuUTo",
        "outputId": "97985c92-3533-49cc-d0ab-b62d84954f22"
      },
      "execution_count": null,
      "outputs": [
        {
          "output_type": "execute_result",
          "data": {
            "text/plain": [
              "''"
            ],
            "application/vnd.google.colaboratory.intrinsic+json": {
              "type": "string"
            }
          },
          "metadata": {},
          "execution_count": 17
        }
      ]
    },
    {
      "cell_type": "code",
      "source": [
        "'' or 'world'"
      ],
      "metadata": {
        "colab": {
          "base_uri": "https://localhost:8080/",
          "height": 35
        },
        "id": "Yfgyg4NluW4A",
        "outputId": "f4056a7f-ec2e-406f-b9c9-3a1302d1a731"
      },
      "execution_count": null,
      "outputs": [
        {
          "output_type": "execute_result",
          "data": {
            "text/plain": [
              "'world'"
            ],
            "application/vnd.google.colaboratory.intrinsic+json": {
              "type": "string"
            }
          },
          "metadata": {},
          "execution_count": 18
        }
      ]
    },
    {
      "cell_type": "code",
      "source": [
        "not 'hello'"
      ],
      "metadata": {
        "colab": {
          "base_uri": "https://localhost:8080/"
        },
        "id": "SobFOmYKunJQ",
        "outputId": "ccd05616-1431-4fcf-c745-cd402717d96c"
      },
      "execution_count": null,
      "outputs": [
        {
          "output_type": "execute_result",
          "data": {
            "text/plain": [
              "False"
            ]
          },
          "metadata": {},
          "execution_count": 19
        }
      ]
    },
    {
      "cell_type": "code",
      "source": [
        "for i in 'hello':\n",
        "  print(i)"
      ],
      "metadata": {
        "colab": {
          "base_uri": "https://localhost:8080/"
        },
        "id": "OkYLrzCuuxAJ",
        "outputId": "8520f879-6ad4-43f3-e3e1-e01f967d1927"
      },
      "execution_count": null,
      "outputs": [
        {
          "output_type": "stream",
          "name": "stdout",
          "text": [
            "h\n",
            "e\n",
            "l\n",
            "l\n",
            "o\n"
          ]
        }
      ]
    },
    {
      "cell_type": "code",
      "source": [
        "for i in 'delhi':\n",
        "  print('pune')"
      ],
      "metadata": {
        "colab": {
          "base_uri": "https://localhost:8080/"
        },
        "id": "tXkESBtdvGZy",
        "outputId": "6a569c32-a227-4e1a-ff09-2b8bb0e2645e"
      },
      "execution_count": null,
      "outputs": [
        {
          "output_type": "stream",
          "name": "stdout",
          "text": [
            "pune\n",
            "pune\n",
            "pune\n",
            "pune\n",
            "pune\n"
          ]
        }
      ]
    },
    {
      "cell_type": "code",
      "source": [
        "\"D\" in 'delhi'"
      ],
      "metadata": {
        "colab": {
          "base_uri": "https://localhost:8080/"
        },
        "id": "wR5UlXqzvPOB",
        "outputId": "cc304950-152b-4889-e5c1-e53f0f3d4dad"
      },
      "execution_count": null,
      "outputs": [
        {
          "output_type": "execute_result",
          "data": {
            "text/plain": [
              "False"
            ]
          },
          "metadata": {},
          "execution_count": 22
        }
      ]
    },
    {
      "cell_type": "code",
      "source": [
        "print('delhi '*5)"
      ],
      "metadata": {
        "colab": {
          "base_uri": "https://localhost:8080/"
        },
        "id": "T2cGmyp1vVgZ",
        "outputId": "bc069cce-0b7f-4672-a053-b05bbe187435"
      },
      "execution_count": null,
      "outputs": [
        {
          "output_type": "stream",
          "name": "stdout",
          "text": [
            "delhi delhi delhi delhi delhi \n"
          ]
        }
      ]
    },
    {
      "cell_type": "markdown",
      "source": [
        "Common Functions"
      ],
      "metadata": {
        "id": "x53fTbD0vc1F"
      }
    },
    {
      "cell_type": "code",
      "source": [
        "len('hello world')"
      ],
      "metadata": {
        "colab": {
          "base_uri": "https://localhost:8080/"
        },
        "id": "GV1n5fRhvb5G",
        "outputId": "213dfd8f-4efd-4505-f136-60cbc1ec48f8"
      },
      "execution_count": null,
      "outputs": [
        {
          "output_type": "execute_result",
          "data": {
            "text/plain": [
              "11"
            ]
          },
          "metadata": {},
          "execution_count": 24
        }
      ]
    },
    {
      "cell_type": "code",
      "source": [
        "max('hello world')"
      ],
      "metadata": {
        "colab": {
          "base_uri": "https://localhost:8080/",
          "height": 35
        },
        "id": "vU6QrYlkvxLQ",
        "outputId": "38263992-f70e-4889-8689-938c33392d38"
      },
      "execution_count": null,
      "outputs": [
        {
          "output_type": "execute_result",
          "data": {
            "text/plain": [
              "'w'"
            ],
            "application/vnd.google.colaboratory.intrinsic+json": {
              "type": "string"
            }
          },
          "metadata": {},
          "execution_count": 25
        }
      ]
    },
    {
      "cell_type": "code",
      "source": [
        "min('hello world')"
      ],
      "metadata": {
        "colab": {
          "base_uri": "https://localhost:8080/",
          "height": 35
        },
        "id": "irVs1nwLvvCy",
        "outputId": "ff4578f3-5973-49a2-8c45-3120f210e508"
      },
      "execution_count": null,
      "outputs": [
        {
          "output_type": "execute_result",
          "data": {
            "text/plain": [
              "' '"
            ],
            "application/vnd.google.colaboratory.intrinsic+json": {
              "type": "string"
            }
          },
          "metadata": {},
          "execution_count": 26
        }
      ]
    },
    {
      "cell_type": "code",
      "source": [
        "sorted('hello world')"
      ],
      "metadata": {
        "colab": {
          "base_uri": "https://localhost:8080/"
        },
        "id": "R9KLrC5rv8SE",
        "outputId": "65a978db-0f60-4916-8a18-1b0e51de90bc"
      },
      "execution_count": null,
      "outputs": [
        {
          "output_type": "execute_result",
          "data": {
            "text/plain": [
              "[' ', 'd', 'e', 'h', 'l', 'l', 'l', 'o', 'o', 'r', 'w']"
            ]
          },
          "metadata": {},
          "execution_count": 27
        }
      ]
    },
    {
      "cell_type": "markdown",
      "source": [
        "Capialize/Title/Upper/Lower/Swapcase"
      ],
      "metadata": {
        "id": "hbNLsEruwM6a"
      }
    },
    {
      "cell_type": "code",
      "source": [
        "s = 'hello world'\n",
        "s.capitalize()"
      ],
      "metadata": {
        "colab": {
          "base_uri": "https://localhost:8080/",
          "height": 35
        },
        "id": "kEYaoQ9LwVtx",
        "outputId": "016f876b-f67e-4b8a-d6d4-4043be82d37e"
      },
      "execution_count": null,
      "outputs": [
        {
          "output_type": "execute_result",
          "data": {
            "text/plain": [
              "'Hello world'"
            ],
            "application/vnd.google.colaboratory.intrinsic+json": {
              "type": "string"
            }
          },
          "metadata": {},
          "execution_count": 28
        }
      ]
    },
    {
      "cell_type": "code",
      "source": [
        "s.title()"
      ],
      "metadata": {
        "colab": {
          "base_uri": "https://localhost:8080/",
          "height": 35
        },
        "id": "yAggF5Wdwit2",
        "outputId": "f6d3796c-28e6-4f73-af13-a0d3eee8882f"
      },
      "execution_count": null,
      "outputs": [
        {
          "output_type": "execute_result",
          "data": {
            "text/plain": [
              "'Hello World'"
            ],
            "application/vnd.google.colaboratory.intrinsic+json": {
              "type": "string"
            }
          },
          "metadata": {},
          "execution_count": 29
        }
      ]
    },
    {
      "cell_type": "code",
      "source": [
        "s.upper()"
      ],
      "metadata": {
        "colab": {
          "base_uri": "https://localhost:8080/",
          "height": 35
        },
        "id": "FWi5jOiowmnC",
        "outputId": "1d7bf9cf-9aa6-416d-bdf7-907aa09337c8"
      },
      "execution_count": null,
      "outputs": [
        {
          "output_type": "execute_result",
          "data": {
            "text/plain": [
              "'HELLO WORLD'"
            ],
            "application/vnd.google.colaboratory.intrinsic+json": {
              "type": "string"
            }
          },
          "metadata": {},
          "execution_count": 30
        }
      ]
    },
    {
      "cell_type": "code",
      "source": [
        "'Hello World'.lower()"
      ],
      "metadata": {
        "colab": {
          "base_uri": "https://localhost:8080/",
          "height": 35
        },
        "id": "UFrPk_QRwqfR",
        "outputId": "d2dabc3c-8793-4673-8845-f07e9746544f"
      },
      "execution_count": null,
      "outputs": [
        {
          "output_type": "execute_result",
          "data": {
            "text/plain": [
              "'hello world'"
            ],
            "application/vnd.google.colaboratory.intrinsic+json": {
              "type": "string"
            }
          },
          "metadata": {},
          "execution_count": 31
        }
      ]
    },
    {
      "cell_type": "code",
      "source": [
        "'HeLLo WorLd'.swapcase()"
      ],
      "metadata": {
        "colab": {
          "base_uri": "https://localhost:8080/",
          "height": 35
        },
        "id": "i2nINEWbwxQr",
        "outputId": "3d3a9a9c-30f4-4c02-b302-2ff90f8938b8"
      },
      "execution_count": null,
      "outputs": [
        {
          "output_type": "execute_result",
          "data": {
            "text/plain": [
              "'hEllO wORlD'"
            ],
            "application/vnd.google.colaboratory.intrinsic+json": {
              "type": "string"
            }
          },
          "metadata": {},
          "execution_count": 32
        }
      ]
    },
    {
      "cell_type": "markdown",
      "source": [
        "Count/Find/Index"
      ],
      "metadata": {
        "id": "VtZO1MDXw_zU"
      }
    },
    {
      "cell_type": "code",
      "source": [
        "'my name is sourav'.count('a')"
      ],
      "metadata": {
        "colab": {
          "base_uri": "https://localhost:8080/"
        },
        "id": "D2XfxmPmw-4e",
        "outputId": "5ac63354-7eb7-4eb3-fddb-d97c2e30e092"
      },
      "execution_count": null,
      "outputs": [
        {
          "output_type": "execute_result",
          "data": {
            "text/plain": [
              "2"
            ]
          },
          "metadata": {},
          "execution_count": 33
        }
      ]
    },
    {
      "cell_type": "markdown",
      "source": [
        "endswith/startwith"
      ],
      "metadata": {
        "id": "BLt8zYVWxp5n"
      }
    },
    {
      "cell_type": "code",
      "source": [
        "'my name is sourav'.endswith('rav')"
      ],
      "metadata": {
        "id": "s7w7QW-rx_qD",
        "colab": {
          "base_uri": "https://localhost:8080/"
        },
        "outputId": "12ec4896-ce10-4b6b-da59-4eb92fc7a1e4"
      },
      "execution_count": null,
      "outputs": [
        {
          "output_type": "execute_result",
          "data": {
            "text/plain": [
              "True"
            ]
          },
          "metadata": {},
          "execution_count": 34
        }
      ]
    },
    {
      "cell_type": "code",
      "source": [
        "'my name is sourav'.startswith('my')"
      ],
      "metadata": {
        "colab": {
          "base_uri": "https://localhost:8080/"
        },
        "id": "vHC70gKUx_kS",
        "outputId": "eb0f682b-f7ce-4b21-9c4f-83a9d19aac46"
      },
      "execution_count": null,
      "outputs": [
        {
          "output_type": "execute_result",
          "data": {
            "text/plain": [
              "True"
            ]
          },
          "metadata": {},
          "execution_count": 35
        }
      ]
    },
    {
      "cell_type": "markdown",
      "source": [
        "format"
      ],
      "metadata": {
        "id": "icmFbxUJg0vO"
      }
    },
    {
      "cell_type": "code",
      "source": [
        "name = 'Sourav'\n",
        "gender = 'male'\n",
        "\n",
        "'Hi my name is {0} and I am a {1}'.format(name,gender)"
      ],
      "metadata": {
        "id": "Tr_YR0KEx88A",
        "colab": {
          "base_uri": "https://localhost:8080/",
          "height": 35
        },
        "outputId": "572c9b3b-80cc-4948-e3b6-b2a8b654c97f"
      },
      "execution_count": null,
      "outputs": [
        {
          "output_type": "execute_result",
          "data": {
            "text/plain": [
              "'Hi my name is Sourav and I am a male'"
            ],
            "application/vnd.google.colaboratory.intrinsic+json": {
              "type": "string"
            }
          },
          "metadata": {},
          "execution_count": 39
        }
      ]
    },
    {
      "cell_type": "markdown",
      "source": [
        "isalnum/isalpha/isdigit/isidentifer"
      ],
      "metadata": {
        "id": "VzbJ_qxehutd"
      }
    },
    {
      "cell_type": "code",
      "source": [
        "'sourav2k@gmail.com'.isalpha()"
      ],
      "metadata": {
        "colab": {
          "base_uri": "https://localhost:8080/"
        },
        "id": "XqKcGFfxh6Cy",
        "outputId": "60084a22-8c26-4363-9681-8813f44f0879"
      },
      "execution_count": null,
      "outputs": [
        {
          "output_type": "execute_result",
          "data": {
            "text/plain": [
              "False"
            ]
          },
          "metadata": {},
          "execution_count": 40
        }
      ]
    },
    {
      "cell_type": "code",
      "source": [
        "'sourav2k@gmail.com'.isalnum()"
      ],
      "metadata": {
        "colab": {
          "base_uri": "https://localhost:8080/"
        },
        "id": "F5WyHOWOiCYy",
        "outputId": "b2627cb5-2a2c-47d7-de9f-c5ca94cd2f38"
      },
      "execution_count": null,
      "outputs": [
        {
          "output_type": "execute_result",
          "data": {
            "text/plain": [
              "False"
            ]
          },
          "metadata": {},
          "execution_count": 41
        }
      ]
    },
    {
      "cell_type": "code",
      "source": [
        "'sourav2k@gmail.com'.isdigit()"
      ],
      "metadata": {
        "colab": {
          "base_uri": "https://localhost:8080/"
        },
        "id": "ANRcN1K1iK4V",
        "outputId": "a7f9b7af-f18a-46c9-e423-010ffc8060e1"
      },
      "execution_count": null,
      "outputs": [
        {
          "output_type": "execute_result",
          "data": {
            "text/plain": [
              "False"
            ]
          },
          "metadata": {},
          "execution_count": 42
        }
      ]
    },
    {
      "cell_type": "code",
      "source": [
        "'sourav2k@gmail.com'.isidentifier()"
      ],
      "metadata": {
        "colab": {
          "base_uri": "https://localhost:8080/"
        },
        "id": "wcGyWH7oiPVu",
        "outputId": "e0c07fa4-8326-4f41-d0ea-be93ff43d4e4"
      },
      "execution_count": null,
      "outputs": [
        {
          "output_type": "execute_result",
          "data": {
            "text/plain": [
              "False"
            ]
          },
          "metadata": {},
          "execution_count": 43
        }
      ]
    },
    {
      "cell_type": "markdown",
      "source": [
        "Split/Join"
      ],
      "metadata": {
        "id": "_VlmqC2zic-5"
      }
    },
    {
      "cell_type": "code",
      "source": [
        "'Hi my name is Sourav'.split()"
      ],
      "metadata": {
        "colab": {
          "base_uri": "https://localhost:8080/"
        },
        "id": "jBfcr6COig0B",
        "outputId": "ba19e361-6fc2-4229-ee0d-c60b4fc49223"
      },
      "execution_count": null,
      "outputs": [
        {
          "output_type": "execute_result",
          "data": {
            "text/plain": [
              "['Hi', 'my', 'name', 'is', 'Sourav']"
            ]
          },
          "metadata": {},
          "execution_count": 44
        }
      ]
    },
    {
      "cell_type": "code",
      "source": [
        "\"    \".join(['Hi', 'my', 'name', 'is', 'Sourav'])"
      ],
      "metadata": {
        "colab": {
          "base_uri": "https://localhost:8080/",
          "height": 35
        },
        "id": "jXvhV698i04g",
        "outputId": "65cae8ad-4027-4cb1-f76e-f1cc8e498ed5"
      },
      "execution_count": null,
      "outputs": [
        {
          "output_type": "execute_result",
          "data": {
            "text/plain": [
              "'Hi    my    name    is    Sourav'"
            ],
            "application/vnd.google.colaboratory.intrinsic+json": {
              "type": "string"
            }
          },
          "metadata": {},
          "execution_count": 45
        }
      ]
    },
    {
      "cell_type": "markdown",
      "source": [
        "Replace"
      ],
      "metadata": {
        "id": "Bd5R8Yyyi--n"
      }
    },
    {
      "cell_type": "code",
      "source": [
        "'Hi my name is Laden'.replace('Laden','Sourav')"
      ],
      "metadata": {
        "colab": {
          "base_uri": "https://localhost:8080/",
          "height": 35
        },
        "id": "a65hPLRzjEJz",
        "outputId": "1aba955f-384b-4530-eca9-574b6a6aaae0"
      },
      "execution_count": null,
      "outputs": [
        {
          "output_type": "execute_result",
          "data": {
            "text/plain": [
              "'Hi my name is Sourav'"
            ],
            "application/vnd.google.colaboratory.intrinsic+json": {
              "type": "string"
            }
          },
          "metadata": {},
          "execution_count": 46
        }
      ]
    },
    {
      "cell_type": "markdown",
      "source": [
        "Strip"
      ],
      "metadata": {
        "id": "3WUOk7xzjWgB"
      }
    },
    {
      "cell_type": "code",
      "source": [
        "'sourav                   '.strip()"
      ],
      "metadata": {
        "colab": {
          "base_uri": "https://localhost:8080/",
          "height": 35
        },
        "id": "Vt0KcF_fjVY6",
        "outputId": "2ab42c97-c1c1-49f9-aae9-ea7d4ab6a3d7"
      },
      "execution_count": null,
      "outputs": [
        {
          "output_type": "execute_result",
          "data": {
            "text/plain": [
              "'sourav'"
            ],
            "application/vnd.google.colaboratory.intrinsic+json": {
              "type": "string"
            }
          },
          "metadata": {},
          "execution_count": 47
        }
      ]
    },
    {
      "cell_type": "markdown",
      "source": [
        "Example Programs"
      ],
      "metadata": {
        "id": "QLQ4fQGgj69g"
      }
    },
    {
      "cell_type": "code",
      "source": [
        "# Find the length of a given string without using the len() function\n",
        "a = input('enter the string:')\n",
        "counter = 0\n",
        "for i in a:\n",
        "  counter +=1\n",
        "print('The length of the string:',counter)"
      ],
      "metadata": {
        "id": "isdNb_-nkBq4",
        "colab": {
          "base_uri": "https://localhost:8080/"
        },
        "outputId": "f1c15a54-599e-4a1b-dee0-a4c3ad45f1c0"
      },
      "execution_count": null,
      "outputs": [
        {
          "output_type": "stream",
          "name": "stdout",
          "text": [
            "enter the string:jgdhgkjhkjyyurytefhjh\n",
            "The length of the string: 21\n"
          ]
        }
      ]
    },
    {
      "cell_type": "code",
      "source": [
        "# Extract username from a given email.\n",
        "# Eg if the email is souravghosh2k@gmail.com\n",
        "# then the username should be souravghosh2k\n",
        "s = input('enter the email:')\n",
        "\n",
        "pos = s.index('@')\n",
        "print(s[0:pos])"
      ],
      "metadata": {
        "colab": {
          "base_uri": "https://localhost:8080/"
        },
        "id": "HCXlgZXJBA0y",
        "outputId": "f2797e6b-c258-4b4f-e0a9-828564522681"
      },
      "execution_count": null,
      "outputs": [
        {
          "output_type": "stream",
          "name": "stdout",
          "text": [
            "enter the email:souravghosh34k@gmail.com\n",
            "souravghosh34k\n"
          ]
        }
      ]
    },
    {
      "cell_type": "code",
      "source": [
        "# Count the frequency of a particular character in a provided string.\n",
        "# Eg 'hello how are you' is the string, the frequency of h in this string is 2.\n",
        "\n",
        "s = input('enter the sentence:')\n",
        "term = input('what would like to search for:')\n",
        "\n",
        "counter = 0\n",
        "for i in s:\n",
        "  if i == term:\n",
        "    counter +=1\n",
        "\n",
        "print('frequency',counter)\n"
      ],
      "metadata": {
        "colab": {
          "base_uri": "https://localhost:8080/"
        },
        "id": "nWZ8oNwaCa0U",
        "outputId": "1b5149b6-8d45-4051-d4b1-3f1ddc04ed5f"
      },
      "execution_count": null,
      "outputs": [
        {
          "output_type": "stream",
          "name": "stdout",
          "text": [
            "enter the sentence:I am petty good in english\n",
            "what would like to search for:g\n",
            "frequency 2\n"
          ]
        }
      ]
    },
    {
      "cell_type": "code",
      "source": [
        "# Write a program which can remove a particular character from a string.\n",
        "s = input('enter the sentence:')\n",
        "term = input('what would like to search for:')\n",
        "\n",
        "result = ''\n",
        "\n",
        "for i in s:\n",
        "  if i != term:\n",
        "    result = result + i\n",
        "\n",
        "print(result)\n"
      ],
      "metadata": {
        "colab": {
          "base_uri": "https://localhost:8080/"
        },
        "id": "Rqsayp2cEGSf",
        "outputId": "434b9912-92dd-4a6a-cd8c-f94a90f1d9dc"
      },
      "execution_count": null,
      "outputs": [
        {
          "output_type": "stream",
          "name": "stdout",
          "text": [
            "enter the sentence:  the souravsiummmser\n",
            "what would like to search for:m\n",
            "  the souravsiuser\n"
          ]
        }
      ]
    },
    {
      "cell_type": "code",
      "source": [
        "# Write a program that can check whether a given sting is palindrome or not.\n",
        "# abba\n",
        "# malayalam\n",
        "\n",
        "s = input('enter the string:')\n",
        "flag = True\n",
        "for i in range(0,len(s)//2):\n",
        "  if s[i] != s[len(s) - i -1]:\n",
        "    flag = False\n",
        "    print('Not a palindrome')\n",
        "    break\n",
        "\n",
        "if flag:\n",
        "  print('palindrome')\n",
        "\n",
        "\n"
      ],
      "metadata": {
        "colab": {
          "base_uri": "https://localhost:8080/"
        },
        "id": "gF2AvVG-FNts",
        "outputId": "763db3b6-8f5f-41a1-92a5-b6137a98fe2e"
      },
      "execution_count": null,
      "outputs": [
        {
          "output_type": "stream",
          "name": "stdout",
          "text": [
            "enter the string:abba\n",
            "palindrome\n"
          ]
        }
      ]
    },
    {
      "cell_type": "code",
      "source": [
        "# Write a program to count the number of words in string without split()\n",
        "s = input('enter the string:')\n",
        "L = []\n",
        "temp = ''\n",
        "for i in s:\n",
        "\n",
        "  if i!= '':\n",
        "    temp = temp + i\n",
        "  else:\n",
        "    L.append(temp)\n",
        "    temp = ''\n",
        "\n",
        "print(L)"
      ],
      "metadata": {
        "colab": {
          "base_uri": "https://localhost:8080/"
        },
        "id": "WHyTh5nHG-SD",
        "outputId": "c036c95c-358d-440e-f759-9118bc2d0f34"
      },
      "execution_count": null,
      "outputs": [
        {
          "output_type": "stream",
          "name": "stdout",
          "text": [
            "enter the string:kjkhjfgb gyghjhjkg\n",
            "[]\n"
          ]
        }
      ]
    },
    {
      "cell_type": "code",
      "source": [
        "# Write a program to convert a string to title case without using the title()\n",
        "s = input('enter the string')\n",
        "L = []\n",
        "for i in s.split():\n",
        "  L.append(i[0].upper() + i[1:].lower())\n",
        "\n",
        "print(' '.join(L))"
      ],
      "metadata": {
        "colab": {
          "base_uri": "https://localhost:8080/"
        },
        "id": "tefwjzX2IwC_",
        "outputId": "f43281b7-d58b-48e5-c2d9-7692bff13655"
      },
      "execution_count": null,
      "outputs": [
        {
          "output_type": "stream",
          "name": "stdout",
          "text": [
            "enter the stringmy name is sourav\n",
            "My Name Is Sourav\n"
          ]
        }
      ]
    },
    {
      "cell_type": "code",
      "source": [
        "# Write a program that can convert an integer to string.\n",
        "\n"
      ],
      "metadata": {
        "id": "0lsJ0RasJ8xA"
      },
      "execution_count": null,
      "outputs": []
    }
  ]
}