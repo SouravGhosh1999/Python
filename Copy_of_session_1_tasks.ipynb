{
  "cells": [
    {
      "cell_type": "markdown",
      "metadata": {
        "id": "view-in-github",
        "colab_type": "text"
      },
      "source": [
        "<a href=\"https://colab.research.google.com/github/SouravGhosh1999/Python/blob/main/Copy_of_session_1_tasks.ipynb\" target=\"_parent\"><img src=\"https://colab.research.google.com/assets/colab-badge.svg\" alt=\"Open In Colab\"/></a>"
      ]
    },
    {
      "cell_type": "markdown",
      "metadata": {
        "id": "A05OG15VqOPF"
      },
      "source": [
        "# Task : Session 1\n",
        "Solve these questions own your own and try to test yourself what you have learned in the session.\n",
        "\n",
        "Happy Learning!"
      ]
    },
    {
      "cell_type": "markdown",
      "metadata": {
        "id": "2doIXf8bqe9_"
      },
      "source": [
        "### Q1 :- Print the given strings as per stated format.\n",
        "\n",
        "**Given strings**:\n",
        "```\n",
        "\"Data\" \"Science\" \"Mentorship\" \"Program\"\n",
        "\"By\" \"CampusX\"\n",
        "```\n",
        "**Output**:\n",
        "```\n",
        "Data-Science-Mentorship-Program-started-By-CampusX\n",
        "```\n",
        "\n",
        "Concept- [Seperator and End]"
      ]
    },
    {
      "cell_type": "code",
      "execution_count": null,
      "metadata": {
        "colab": {
          "base_uri": "https://localhost:8080/"
        },
        "id": "-em6d3KErDtp",
        "outputId": "321076af-36d2-4ddd-f6d1-fa3426090245"
      },
      "outputs": [
        {
          "name": "stdout",
          "output_type": "stream",
          "text": [
            "Data-Science-Mentorship-Program-started-By-CampusX\n"
          ]
        }
      ],
      "source": [
        "# Write your code here\n",
        "print('Data','Science','Mentorship','Program','started','By','CampusX',sep='-')"
      ]
    },
    {
      "cell_type": "markdown",
      "metadata": {
        "id": "1KUpN7ZTrC3_"
      },
      "source": [
        "### Q2:- Write a program that will convert celsius value to fahrenheit."
      ]
    },
    {
      "cell_type": "code",
      "execution_count": null,
      "metadata": {
        "colab": {
          "base_uri": "https://localhost:8080/"
        },
        "id": "yxKYhYQiqWfj",
        "outputId": "969feb20-1103-48c5-e468-e50c3995cd4e"
      },
      "outputs": [
        {
          "name": "stdout",
          "output_type": "stream",
          "text": [
            "Enter the temperature in celsius:-40\n",
            "The temperature in fahrenheit: -40.0\n"
          ]
        }
      ],
      "source": [
        "# Write your code here\n",
        "c=float(input('Enter the temperature in celsius:'))\n",
        "f=(c*9/5)+32\n",
        "print('The temperature in fahrenheit:',f)"
      ]
    },
    {
      "cell_type": "markdown",
      "metadata": {
        "id": "RLrOBBJurLB2"
      },
      "source": [
        "### Q3:- Take 2 numbers as input from the user.Write a program to swap the numbers without using any special python syntax."
      ]
    },
    {
      "cell_type": "code",
      "execution_count": null,
      "metadata": {
        "colab": {
          "base_uri": "https://localhost:8080/"
        },
        "id": "yPn7if0TrJ4F",
        "outputId": "fdcbc8e3-5e90-4647-c982-81628da84777"
      },
      "outputs": [
        {
          "name": "stdout",
          "output_type": "stream",
          "text": [
            "43 12\n"
          ]
        }
      ],
      "source": [
        "from genericpath import sameopenfile\n",
        "# Write your code here\n",
        "a,b=12,43\n",
        "a,b=b,a\n",
        "print(a,b)\n"
      ]
    },
    {
      "cell_type": "markdown",
      "metadata": {
        "id": "waLCP1bjr7ML"
      },
      "source": [
        "### Q4:- Write a program to find the euclidean distance between two coordinates.Take both the coordinates from the user as input."
      ]
    },
    {
      "cell_type": "code",
      "execution_count": null,
      "metadata": {
        "colab": {
          "base_uri": "https://localhost:8080/"
        },
        "id": "Pl1Sv-xnrxnH",
        "outputId": "3f52f68d-f189-42f8-ee1c-5d7b8bcac987"
      },
      "outputs": [
        {
          "name": "stdout",
          "output_type": "stream",
          "text": [
            "Enter the value of x1,y1:14 54 \n",
            "14 54\n",
            "Enter the value of x2:41\n",
            "Enter the value of y2:54 \n",
            "41 54\n",
            "The euclidean distance between two coordinates is: 27.0\n"
          ]
        }
      ],
      "source": [
        "# Write your code here\n",
        "x1,y1=input(\"Enter the value of x1,y1:\").split()\n",
        "x1,y1=int(x1),int(y1)\n",
        "print(x1,y1)\n",
        "x2,y2=int(input(\"Enter the value of x2:\")),int(input(\"Enter the value of y2:\"))\n",
        "print(x2,y2)\n",
        "d=((x1-x2)**2+(y1-y2)**2)**0.5\n",
        "print(\"The euclidean distance between two coordinates is:\",d)"
      ]
    },
    {
      "cell_type": "markdown",
      "metadata": {
        "id": "VLrhg-FRsHjR"
      },
      "source": [
        "### Q5:- Write a program to find the simple interest when the value of principle,rate of interest and time period is provided by the user.\n"
      ]
    },
    {
      "cell_type": "code",
      "execution_count": null,
      "metadata": {
        "colab": {
          "base_uri": "https://localhost:8080/"
        },
        "id": "s40DlReZsTmY",
        "outputId": "3cee602e-b0a6-42b1-e42a-314247aa8ad7"
      },
      "outputs": [
        {
          "name": "stdout",
          "output_type": "stream",
          "text": [
            "Enter the value of principle:15220\n",
            "Enter the value of rate of interest:7\n",
            "Enter the value of time period:4\n",
            "The amount after 4 years is 42616.0\n"
          ]
        }
      ],
      "source": [
        "# Write your code here\n",
        "p=int(input(\"Enter the value of principle:\"))\n",
        "r=float(input(\"Enter the value of rate of interest:\"))\n",
        "t=int(input(\"Enter the value of time period:\"))\n",
        "print(\"The amount after\",t,\"years is\",p*r*t/10)"
      ]
    },
    {
      "cell_type": "markdown",
      "metadata": {
        "id": "LMy0BTUktYKa"
      },
      "source": [
        "### Q6:- Write a program that will tell the number of dogs and chicken are there when the user will provide the value of total heads and legs.\n",
        "\n",
        "For example:\n",
        "Input:\n",
        "heads -> 4\n",
        "legs -> 12\n",
        "<br>\n",
        "Output:\n",
        "dogs -> 2\n",
        "chicken -> 2\n",
        "\n",
        "\n",
        "\n"
      ]
    },
    {
      "cell_type": "code",
      "execution_count": null,
      "metadata": {
        "colab": {
          "base_uri": "https://localhost:8080/"
        },
        "id": "XSBvJoA4tXaG",
        "outputId": "cef46199-7c7f-41b6-eef6-2f5114c15688"
      },
      "outputs": [
        {
          "name": "stdout",
          "output_type": "stream",
          "text": [
            "No of heads:4\n",
            "No of legs:56\n",
            "No of dogs: 24\n",
            "No of chickens: -20\n"
          ]
        }
      ],
      "source": [
        "# Write your code here\n",
        "h=int(input(\"No of heads:\"))\n",
        "l=int(input(\"No of legs:\"))\n",
        "print(\"No of dogs:\",int((l-2*h)/2))\n",
        "print(\"No of chickens:\",int(h-(l-2*h)/2))"
      ]
    },
    {
      "cell_type": "markdown",
      "metadata": {
        "id": "gJ7C5kZYt4BP"
      },
      "source": [
        "### Q7:- Write a program to find the sum of squares of first n natural numbers where n will be provided by the user."
      ]
    },
    {
      "cell_type": "code",
      "execution_count": null,
      "metadata": {
        "colab": {
          "base_uri": "https://localhost:8080/"
        },
        "id": "_tHsmEHzt2nX",
        "outputId": "0fd046e2-1925-4a1e-fb5f-09be67d4d1d0"
      },
      "outputs": [
        {
          "name": "stdout",
          "output_type": "stream",
          "text": [
            "Enter the value of n:5\n",
            "The sum of squares of first 5 natural numbers is: 55.0\n"
          ]
        }
      ],
      "source": [
        "# Write your code here\n",
        "n=int(input(\"Enter the value of n:\"))\n",
        "print(\"The sum of squares of first\",n,\"natural numbers is:\",(n*(n+1)*(2*n+1))/6)"
      ]
    },
    {
      "cell_type": "markdown",
      "metadata": {
        "id": "FHrMM7g-yG1h"
      },
      "source": [
        "### Q8:- Given the first 2 terms of an Arithmetic Series.Find the Nth term of the series. Assume all inputs are provided by the user."
      ]
    },
    {
      "cell_type": "code",
      "execution_count": null,
      "metadata": {
        "colab": {
          "base_uri": "https://localhost:8080/"
        },
        "id": "go4_kmZmyVSx",
        "outputId": "627ca2bc-6201-4070-ee52-5095f86642ea"
      },
      "outputs": [
        {
          "name": "stdout",
          "output_type": "stream",
          "text": [
            "Enter the first term of the series:12\n",
            "Enter the second term of the series:14\n",
            "Enter the term number that you want to find out:7\n",
            "Reqried term is: 24\n"
          ]
        }
      ],
      "source": [
        "# Write your code heret\n",
        "a=int(input(\"Enter the first term of the series:\"))\n",
        "b=int(input(\"Enter the second term of the series:\"))\n",
        "d=b-a\n",
        "n=int(input(\"Enter the term number that you want to find out:\"))\n",
        "r=a+(n-1)*d\n",
        "print(\"Reqried term is:\",r);"
      ]
    },
    {
      "cell_type": "markdown",
      "metadata": {
        "id": "QgyRX_es1oum"
      },
      "source": [
        "### Q9:- Given 2 fractions, find the sum of those 2 fractions.Take the numerator and denominator values of the fractions from the user."
      ]
    },
    {
      "cell_type": "code",
      "execution_count": null,
      "metadata": {
        "colab": {
          "base_uri": "https://localhost:8080/"
        },
        "id": "X05xqFS1yW16",
        "outputId": "d38e7860-b709-4798-a3bc-e8ebe11f9eb8"
      },
      "outputs": [
        {
          "name": "stdout",
          "output_type": "stream",
          "text": [
            "Enter the first fraction:45 65\n",
            "Enter the second fraction:65 43\n",
            "The sum of the fraction 4075.0769230769233\n"
          ]
        }
      ],
      "source": [
        "# Write your code here\n",
        "a,b=input(\"Enter the first fraction:\").split()\n",
        "a,b=int(a),int(b)\n",
        "c,d=input(\"Enter the second fraction:\").split()\n",
        "c,d=int(c),int(d)\n",
        "s=(a*d+b*c)/b*d\n",
        "print('The sum of the fraction',s)"
      ]
    },
    {
      "cell_type": "markdown",
      "metadata": {
        "id": "eaql38ln13u7"
      },
      "source": [
        "### Q10:- Given the height, width and breadth of a milk tank, you have to find out how many glasses of milk can be obtained? Assume all the inputs are provided by the user.\n",
        "\n",
        "\n",
        "\n",
        "Input:<br>\n",
        "Dimensions of the milk tank<br>\n",
        "H = 20cm, L = 20cm, B = 20cm\n",
        "<br><br>\n",
        "Dimensions of the glass<br>\n",
        "h = 3cm, r = 1cm"
      ]
    },
    {
      "cell_type": "code",
      "execution_count": null,
      "metadata": {
        "colab": {
          "base_uri": "https://localhost:8080/"
        },
        "id": "FePZqno74eWv",
        "outputId": "3543e5ea-521f-4a28-c665-7664507d9186"
      },
      "outputs": [
        {
          "name": "stdout",
          "output_type": "stream",
          "text": [
            "Enter the value of H,L,B:12 26 5\n",
            "Enter the value of h,r:4 7\n",
            "Number of glass need: 2\n"
          ]
        }
      ],
      "source": [
        "# Write your code here\n",
        "# Enter the value of the milk tank\n",
        "H,L,B = input(\"Enter the value of H,L,B:\").split()\n",
        "H,L,B = int(H),int(L),int(B)\n",
        "# Enter the value of the glass\n",
        "h,r = input(\"Enter the value of h,r:\").split()\n",
        "h,r = int(h),int(r)\n",
        "g=(H*L*B)/(3.14*h*r*r)\n",
        "# Calculate the number of glass\n",
        "print(\"Number of glass need:\",int(g))"
      ]
    },
    {
      "cell_type": "code",
      "source": [
        "a,b=12,15\n",
        "print(b/a)\n",
        "print(b//a)\n",
        "print(b%a)"
      ],
      "metadata": {
        "colab": {
          "base_uri": "https://localhost:8080/"
        },
        "id": "t_zzolPUqvsJ",
        "outputId": "b996253a-0a0d-4eae-cef9-734ddf36e83e"
      },
      "execution_count": null,
      "outputs": [
        {
          "output_type": "stream",
          "name": "stdout",
          "text": [
            "1.25\n",
            "1\n",
            "3\n"
          ]
        }
      ]
    },
    {
      "cell_type": "code",
      "source": [
        "()"
      ],
      "metadata": {
        "id": "I43pmfrSq2AH"
      },
      "execution_count": null,
      "outputs": []
    }
  ],
  "metadata": {
    "colab": {
      "provenance": [],
      "include_colab_link": true
    },
    "kernelspec": {
      "display_name": "Python 3",
      "name": "python3"
    },
    "language_info": {
      "name": "python"
    }
  },
  "nbformat": 4,
  "nbformat_minor": 0
}